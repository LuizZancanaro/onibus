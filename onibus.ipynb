{
  "nbformat": 4,
  "nbformat_minor": 0,
  "metadata": {
    "colab": {
      "provenance": []
    },
    "kernelspec": {
      "name": "python3",
      "display_name": "Python 3"
    },
    "language_info": {
      "name": "python"
    }
  },
  "cells": [
    {
      "cell_type": "markdown",
      "source": [
        "#Descer ou não descer, eis a questão!\n",
        "Esse é um mini projeto baseado em uma experiência que aconteceu quando eu era mais novo e não conhecia o conceito de dados e estatística."
      ],
      "metadata": {
        "id": "ZU8BItFoVzJ3"
      }
    },
    {
      "cell_type": "markdown",
      "source": [
        "##O Problema\n",
        "Eu voltava tarde e de ônibus da faculdade e não morava em uma região segura do Rio de Janeiro, e por causa disso decidi que deveria reduzir ao máximo meu tempo na rua.\n",
        "\n",
        "Meu ônibus parava sempre em 2 pontos, um que era um pouco mais próximo da minha casa e outro que era mais longe, e caso eu escolhesse descer no ponto mais longe existia a possibilidade do ônibus parar no sinal de transito perto da minha casa, mas isso só acontecia se o sinal de transito estivesse fechado.\n",
        "\n",
        "Então existia 3 situações possíveis:\n",
        "\n",
        "1.   Descer em um ponto que ficava a 597 metros de casa, por opção.\n",
        "2.   Descer a 54 metros de casa, caso o sinal estivesse fechado.\n",
        "3.   Descer a 833 metros de casa, caso o motorista não parasse no sinal.\n",
        "\n",
        "Meu problema passou a ser, devo arriscar a chance do mortista parar no sinal, ou devo sempre descer no primeiro ponto?\n",
        "\n",
        "\n",
        "\n",
        "\n",
        "\n",
        "\n",
        "\n"
      ],
      "metadata": {
        "id": "GJsJZ8TmWJS6"
      }
    },
    {
      "cell_type": "markdown",
      "source": [
        "#Modelando o Problema\n",
        "No primeiro caso, escolher descer no primeiro ponto não existe influência de nada, e é uma decisão só minha, ou seja, eu sempre vou andar 597 metros para chegar em casa.\n",
        "\n",
        "No segundo caso podem acontecer duas coisas e uma excluí a outra, ou eu vou andar 54 metros ou eu vou andar 833 metros.\n",
        "\n",
        "Por isso é necessário saber quantas vezes ele vai parar perto da minha casa e quantas vezes ele vai passar direto pelo sinal e parar no ponto mais distante."
      ],
      "metadata": {
        "id": "L-xSzLauY0Ag"
      }
    },
    {
      "cell_type": "markdown",
      "source": [
        "##Coletando os dados\n",
        "Durante 25 dias eu sempre tentei descer no sinal de transito, as vezes conseguia e as vezes não conseguia.\n",
        "\n",
        "Usei \"Sim\" para todas as vezes que ele parou no sinal e \"Não\" para as vezes que ele não parou no sinal.\n"
      ],
      "metadata": {
        "id": "ALbg3fXze3rN"
      }
    },
    {
      "cell_type": "code",
      "source": [
        "dados = {\"Parou\": ['Sim','Não', 'Não','Sim','Não', 'Não', 'Sim','Não','Sim','Não', 'Não','Sim','Não','Não', 'Não', 'Sim','Sim','Não','Sim','Não', 'Não','Não', 'Não','Sim','Não']}\n",
        "dados"
      ],
      "metadata": {
        "colab": {
          "base_uri": "https://localhost:8080/"
        },
        "id": "SydZr_kQWHgb",
        "outputId": "ba501f02-9e2b-4238-e070-450b10afc8b0"
      },
      "execution_count": 140,
      "outputs": [
        {
          "output_type": "execute_result",
          "data": {
            "text/plain": [
              "{'Parou': ['Sim',\n",
              "  'Não',\n",
              "  'Não',\n",
              "  'Sim',\n",
              "  'Não',\n",
              "  'Não',\n",
              "  'Sim',\n",
              "  'Não',\n",
              "  'Sim',\n",
              "  'Não',\n",
              "  'Não',\n",
              "  'Sim',\n",
              "  'Não',\n",
              "  'Não',\n",
              "  'Não',\n",
              "  'Sim',\n",
              "  'Sim',\n",
              "  'Não',\n",
              "  'Sim',\n",
              "  'Não',\n",
              "  'Não',\n",
              "  'Não',\n",
              "  'Não',\n",
              "  'Sim',\n",
              "  'Não']}"
            ]
          },
          "metadata": {},
          "execution_count": 140
        }
      ]
    },
    {
      "cell_type": "code",
      "execution_count": 141,
      "metadata": {
        "id": "CLc2FPrOK30O"
      },
      "outputs": [],
      "source": [
        "import pandas as pd\n"
      ]
    },
    {
      "cell_type": "code",
      "source": [
        "df = pd.DataFrame(dados)\n"
      ],
      "metadata": {
        "id": "wk-vEmqEK8_T"
      },
      "execution_count": 142,
      "outputs": []
    },
    {
      "source": [
        "import numpy as np\n",
        "from google.colab import autoviz\n",
        "\n",
        "def categorical_histogram(df, colname, figscale=1, mpl_palette_name='Dark2'):\n",
        "  from matplotlib import pyplot as plt\n",
        "  import seaborn as sns\n",
        "  df.groupby(colname).size().plot(kind='barh', color=sns.palettes.mpl_palette(mpl_palette_name), figsize=(8*figscale, 4.8*figscale))\n",
        "  plt.gca().spines[['top', 'right',]].set_visible(False)\n",
        "  return autoviz.MplChart.from_current_mpl_state()\n",
        "\n",
        "chart = categorical_histogram(df, *['Parou'], **{})\n",
        "chart"
      ],
      "cell_type": "code",
      "metadata": {
        "colab": {
          "base_uri": "https://localhost:8080/",
          "height": 434
        },
        "id": "DYBn9YTxgZIx",
        "outputId": "2f1c627a-4069-433c-ff06-22d96c621993"
      },
      "execution_count": 143,
      "outputs": [
        {
          "output_type": "execute_result",
          "data": {
            "text/html": [
              "<img src=\"data:image/png;base64,iVBORw0KGgoAAAANSUhEUgAAArgAAAGdCAYAAAD5SQA3AAAAOXRFWHRTb2Z0d2FyZQBNYXRwbG90\n",
              "bGliIHZlcnNpb24zLjcuMSwgaHR0cHM6Ly9tYXRwbG90bGliLm9yZy/bCgiHAAAACXBIWXMAAA9h\n",
              "AAAPYQGoP6dpAAAbwklEQVR4nO3de5CWdf3/8fcNC7sbsAtoiBggCIkHUBBwFPMwUushETU1E8LD\n",
              "pDKYgImnROprCuikohGmWaJ5iDElD6Wh4lk8sKJRJKIkKimGySrGQfb6/ZHuz1U5rSvXzcfHY+ae\n",
              "ca97b3jtNds9z7m77ptClmVZAABAIprkPQAAABqTwAUAICkCFwCApAhcAACSInABAEiKwAUAICkC\n",
              "FwCApAhcAACSInA/lGVZ1NTUhH/3AgBg8yZwP/Tuu+9GZWVlvPvuu3lPAQDgcxC4AAAkReACAJAU\n",
              "gQsAQFIELgAASRG4AAAkReACAJAUgQsAQFIELgAASRG4AAAkReACAJAUgQsAQFIELgAASRG4AAAk\n",
              "ReACAJAUgQsAQFIELgAASRG4AAAkReACAJAUgQsAQFIELgAASRG4AAAkReACAJAUgQsAQFIELgAA\n",
              "SRG4AAAkReACAJAUgQsAQFIELgAASRG4AAAkReACAJAUgQsAQFIELgAASRG4AAAkReACAJAUgQsA\n",
              "QFIELgAASRG4AAAkReACAJAUgQsAQFIELgAASRG4AAAkReACAJAUgQsAQFIELgAASRG4AAAkpSTv\n",
              "AcVmwSmto2XzQt4zAIra169bk/cEgLXyCi4AAEkRuAAAJEXgAgCQFIELAEBSBC4AAEkRuAAAJEXg\n",
              "AgCQFIELAEBSBC4AAEkRuAAAJEXgAgCQFIELAEBSBC4AAEkRuAAAJEXgAgCQFIELAEBSBC4AAEkR\n",
              "uAAAJEXgAgCQFIELAEBSBC4AAEkRuAAAJEXgAgCQFIELAEBSBC4AAEkRuAAAJEXgAgCQFIELAEBS\n",
              "BC4AAEkRuAAAJEXgAgCQFIELAEBSBC4AAEkRuAAAJEXgAgCQFIELAEBSBC4AAEkRuAAAJEXgAgCQ\n",
              "FIELAEBSNovALRQKMX369LxnAACwGSiKwH3rrbdi+PDh0alTpygtLY327dtHVVVVPPbYYxER8a9/\n",
              "/SsOPPDAnFcCALA5KMl7QETEEUccEatWrYqpU6dG165d480334z7778/li5dGhER7du3z3khAACb\n",
              "i9xfwX3nnXfikUceiYkTJ8Z+++0XnTt3jv79+8c555wTgwYNioj6lyj885//jEKhENOmTYtvfOMb\n",
              "UV5eHv369Yv58+fH008/HX379o2WLVvGgQceGG+99VaOPxkAAHnIPXBbtmwZLVu2jOnTp8fKlSs3\n",
              "+HHjxo2L8847L6qrq6OkpCS+973vxZlnnhmTJk2KRx55JBYsWBDnn3/+Wh+/cuXKqKmpqXcDAGDz\n",
              "l3vglpSUxHXXXRdTp06N1q1bx4ABA+Lcc8+N559/fp2PO+OMM6Kqqip22GGHGDlyZMyePTvGjh0b\n",
              "AwYMiN69e8eJJ54YM2fOXOvjx48fH5WVlXW3jh07NvaPBgBADnIP3Ij/XYO7ePHiuOOOO+KAAw6I\n",
              "Bx98MPr06RPXXXfdWh/Tq1evuv/eaqutIiKiZ8+e9Y4tWbJkrY8/55xzYtmyZXW3V1999fP/IAAA\n",
              "5K4oAjcioqysLL75zW/G2LFj4/HHH4/jjjsuxo0bt9bvb9asWd1/FwqFzzxWW1u71seXlpZGRUVF\n",
              "vRsAAJu/ogncT9pxxx1j+fLlec8AAGAzk/vHhC1dujSOPPLIOOGEE6JXr17RqlWreOaZZ+Liiy+O\n",
              "Qw89NO95AABsZnIP3JYtW8buu+8el112Wbz00kuxevXq6NixY/zgBz+Ic889N+95AABsZgpZlmV5\n",
              "jygGNTU1UVlZGbOPKUTL5oW85wAUta9ftybvCQBrVbTX4AIAQEMIXAAAkiJwAQBIisAFACApAhcA\n",
              "gKQIXAAAkiJwAQBIisAFACApAhcAgKQIXAAAkiJwAQBIisAFACApAhcAgKQIXAAAkiJwAQBIisAF\n",
              "ACApAhcAgKQIXAAAkiJwAQBIisAFACApAhcAgKQIXAAAkiJwAQBIisAFACApAhcAgKQIXAAAkiJw\n",
              "AQBIisAFACApAhcAgKQIXAAAkiJwAQBIisAFACApAhcAgKQIXAAAkiJwAQBIisAFACApAhcAgKQI\n",
              "XAAAkiJwAQBISiHLsizvEcWgpqYmKisrY9myZVFRUZH3HAAAGsgruAAAJEXgAgCQFIELAEBSBC4A\n",
              "AEkRuAAAJEXgAgCQFIELAEBSBC4AAEkRuAAAJEXgAgCQFIELAEBSBC4AAEkRuAAAJEXgAgCQFIEL\n",
              "AEBSBC4AAEkRuAAAJEXgAgCQFIELAEBSBC4AAEkRuAAAJEXgAgCQFIELAEBSBC4AAEkRuAAAJEXg\n",
              "AgCQFIELAEBSBC4AAEkRuAAAJEXgAgCQlJKGPKhLly5RKBTWev/LL7/c4EEAAPB5NChwR40aVe/r\n",
              "1atXx7PPPhv33HNPjBkzpjF2AQBAgzQocEeOHPmZxydPnhzPPPPM5xoEAACfRyHLsqyx/rCXX345\n",
              "dt1116ipqWmsP3KTqampicrKyli2bFlUVFTkPQcAgAZq1DeZ3XrrrdG2bdvG/CMBAGCjNOgShd69\n",
              "e9d7k1mWZfHGG2/EW2+9Fb/85S8bbRwAAGysBgXu4MGD633dpEmT+OpXvxr77rtv9OjRozF2AQBA\n",
              "gzTqNbibM9fgAgCkoUGv4EZErFmzJqZPnx7z5s2LiIiddtopBg0aFE2bNm20cQAAsLEa9AruggUL\n",
              "4qCDDorXX389tt9++4iIeOGFF6Jjx45x9913x3bbbdfoQ79oXsEFAEhDgwL3oIMOiizL4sYbb6z7\n",
              "1ISlS5fGkCFDokmTJnH33Xc3+tAvmsAFAEhDgwK3RYsWMWvWrOjZs2e9488991wMGDAg3nvvvUYb\n",
              "uKkIXACANDToc3BLS0vj3Xff/dTx9957L5o3b/65RwEAQEM1KHC//e1vx0knnRRPPvlkZFkWWZbF\n",
              "rFmz4pRTTolBgwY19kYAANhgDQrcK664IrbbbrvYY489oqysLMrKymLAgAHRrVu3mDRpUmNvBACA\n",
              "DbbRHxOWZVnU1NTELbfcEq+//nrdx4TtsMMO0a1bt0YfCAAAG2Oj32RWW1sbZWVl8be//S26d+/+\n",
              "Re3a5LzJDAAgDRt9iUKTJk2ie/fusXTp0i9iDwAAfC4NugZ3woQJMWbMmJg7d25j7wEAgM+lQZ+D\n",
              "26ZNm3j//ffjgw8+iObNm0d5eXm9+99+++1GG7ipuEQBACANG/0ms4iIyy+/vJFnAABA42jQK7gp\n",
              "8gouAEAaGvQK7setWLEiVq1aVe+YQAQAIC8NepPZ8uXL49RTT4127dpFixYtok2bNvVuAACQlwYF\n",
              "7plnnhkPPPBATJkyJUpLS+PXv/51/PSnP40OHTrE9ddf39gbAQBggzXoGtxOnTrF9ddfH/vuu29U\n",
              "VFREdXV1dOvWLW644Ya4+eab409/+tMXsfUL5RpcAIA0NOgV3Lfffju6du0aEf+73vajjwXba6+9\n",
              "4uGHH268dQAAsJEaFLhdu3aNhQsXRkREjx49Ytq0aRERceedd0br1q0bbRwAAGysBgXu8ccfH889\n",
              "91xERJx99tkxefLkKCsri9GjR8eYMWMadSAAAGyMjfqYsNra2rjkkkvijjvuiFWrVsXixYtj3Lhx\n",
              "8Y9//CNmz54d3bp1i169en1RWwEAYL02KnAvvPDC+MlPfhIDBw6M8vLymDRpUixZsiR+85vfROfO\n",
              "nb+ojQAAsME26lMUunfvHmeccUacfPLJERFx3333xcEHHxz//e9/o0mTBl3tUDR8igIAQBo2qkoX\n",
              "LVoUBx10UN3XAwcOjEKhEIsXL270YQAA0BAbFbgffPBBlJWV1TvWrFmzWL16daOOAgCAhtqoa3Cz\n",
              "LIvjjjsuSktL646tWLEiTjnllGjRokXdsdtuu63xFgIAwEbYqMAdNmzYp44NGTKk0cYAAMDn1aB/\n",
              "qjdF3mQGAJCGzfujDwAA4BMELgAASRG4AAAkReACAJAUgQsAQFIELgAASRG4AAAkReACAJAUgQsA\n",
              "QFIELgAASRG4AAAkReACAJAUgQsAQFIELgAASRG4AAAkReACAJAUgQsAQFIELgAASRG4AAAkReAC\n",
              "AJAUgQsAQFIELgAASRG4AAAkReACAJAUgQsAQFJK8h5QbHr8blw0KS/NewYAQFF77fgJeU9YK6/g\n",
              "AgCQFIELAEBSBC4AAEkRuAAAJEXgAgCQFIELAEBSBC4AAEkRuAAAJEXgAgCQFIELAEBSBC4AAEkR\n",
              "uAAAJEXgAgCQFIELAEBSBC4AAEkRuAAAJEXgAgCQFIELAEBSBC4AAEkRuAAAJEXgAgCQFIELAEBS\n",
              "BC4AAEkRuAAAJEXgAgCQFIELAEBSBC4AAEkRuAAAJEXgAgCQFIELAEBSBC4AAEkRuAAAJEXgAgCQ\n",
              "FIELAEBSBC4AAEkRuAAAJEXgAgCQFIELAEBSBC4AAEkRuAAAJGWzCNzbbrstWrduHWPHjo0ZM2bE\n",
              "iBEj8p4EAECRyjVwjzvuuCgUCjFhwoR6x6dPnx6FQqHu69tuuy1uuOGGWLx4cQwfPjyGDRu2qacC\n",
              "ALCZKMl7QFlZWUycODFOPvnkaNOmzWd+z+9+97uIiDjkkEM25TQAADZDuV+iMHDgwGjfvn2MHz/+\n",
              "M+9funRpHHPMMbHNNtvEV77ylejZs2fcfPPN9b5n5cqVcdppp0W7du2irKws9tprr3j66ac3xXwA\n",
              "AIpM7oHbtGnTuOiii+LKK6+M11577VP3r1ixInbbbbe4++67Y+7cuXHSSSfF0KFD46mnnqr7njPP\n",
              "PDP+8Ic/xNSpU6O6ujq6desWVVVV8fbbb6/17125cmXU1NTUuwEAsPnLPXAjIg477LDYddddY9y4\n",
              "cZ+6b5tttokzzjgjdt111+jatWv88Ic/jAMOOCCmTZsWERHLly+PKVOmxCWXXBIHHnhg7LjjjnHN\n",
              "NddEeXl5XHvttWv9O8ePHx+VlZV1t44dO35hPx8AAJtOUQRuRMTEiRNj6tSpMW/evHrH16xZExdc\n",
              "cEH07Nkz2rZtGy1btox77703Fi1aFBERL730UqxevToGDBhQ95hmzZpF//79P/Vnfdw555wTy5Yt\n",
              "q7u9+uqrX8wPBgDAJlU0gbv33ntHVVVVnHPOOfWOX3LJJTFp0qQ466yzYubMmTFnzpyoqqqKVatW\n",
              "fa6/r7S0NCoqKurdAADY/BVN4EZETJgwIe6888544okn6o499thjceihh8aQIUNil112ia5du8b8\n",
              "+fPr7t9uu+2iefPm8dhjj9UdW716dTz99NOx4447btL9AADkL/ePCfu4nj17xrHHHhtXXHFF3bHu\n",
              "3bvHrbfeGo8//ni0adMmLr300njzzTfr4rVFixYxfPjwGDNmTLRt2zY6deoUF198cbz//vtx4okn\n",
              "5vWjAACQk6J6BTci4v/+7/+itra27uvzzjsv+vTpE1VVVbHvvvtG+/btY/DgwfUeM2HChDjiiCNi\n",
              "6NCh0adPn1iwYEHce++9a/1cXQAA0lXIsizLe0QxqKmpicrKyth68qhoUl6a9xwAgKL22vET1v9N\n",
              "OSm6V3ABAODzELgAACRF4AIAkBSBCwBAUgQuAABJEbgAACRF4AIAkBSBCwBAUgQuAABJEbgAACRF\n",
              "4AIAkBSBCwBAUgQuAABJEbgAACRF4AIAkBSBCwBAUgQuAABJEbgAACRF4AIAkBSBCwBAUgQuAABJ\n",
              "EbgAACRF4AIAkBSBCwBAUgQuAABJEbgAACRF4AIAkBSBCwBAUgQuAABJEbgAACRF4AIAkBSBCwBA\n",
              "UgQuAABJEbgAACRF4AIAkBSBCwBAUgQuAABJEbgAACRF4AIAkJRClmVZ3iOKQU1NTVRWVsayZcui\n",
              "oqIi7zkAADSQV3ABAEiKwAUAICkCFwCApAhcAACSInABAEiKwAUAICkCFwCApAhcAACSInABAEiK\n",
              "wAUAICkCFwCApAhcAACSInABAEiKwAUAICkCFwCApAhcAACSInABAEiKwAUAICkCFwCApAhcAACS\n",
              "InABAEiKwAUAICkCFwCApAhcAACSInABAEiKwAUAICkCFwCApAhcAACSInABAEiKwAUAICkCFwCA\n",
              "pAhcAACSInABAEiKwAUAICkCFwCApAhcAACSInABAEiKwAUAICkCFwCApAhcAACSInABAEiKwAUA\n",
              "ICkCFwCApAhcAACSUpL3gGKRZVlERNTU1OS8BACAdWnVqlUUCoW13i9wP7R06dKIiOjYsWPOSwAA\n",
              "WJdly5ZFRUXFWu8XuB9q27ZtREQsWrQoKisrc15TvGpqaqJjx47x6quvrvMX68vMOdowztOGcZ42\n",
              "jPO0YZyn9XOONkze56lVq1brvF/gfqhJk/9djlxZWekXegNUVFQ4T+vhHG0Y52nDOE8bxnnaMM7T\n",
              "+jlHG6ZYz5M3mQEAkBSBCwBAUgTuh0pLS2PcuHFRWlqa95Si5jytn3O0YZynDeM8bRjnacM4T+vn\n",
              "HG2YYj9Pheyjz8cCAIAEeAUXAICkCFwAAJIicAEASIrABQAgKQI3IiZPnhzbbrttlJWVxe677x5P\n",
              "PfVU3pOKyvjx46Nfv37RqlWraNeuXQwePDheeOGFvGcVvQkTJkShUIhRo0blPaXovP766zFkyJDY\n",
              "Yostory8PHr27BnPPPNM3rOKypo1a2Ls2LHRpUuXKC8vj+222y4uuOCC+LK/L/jhhx+OQw45JDp0\n",
              "6BCFQiGmT59e7/4sy+L888+PrbfeOsrLy2PgwIHx4osv5jM2J+s6R6tXr46zzjorevbsGS1atIgO\n",
              "HTrE97///Vi8eHF+g3Oyvt+ljzvllFOiUCjE5Zdfvsn2FYsNOU/z5s2LQYMGRWVlZbRo0SL69esX\n",
              "ixYt2vRjP+ZLH7i///3v4/TTT49x48ZFdXV17LLLLlFVVRVLlizJe1rReOihh2LEiBExa9asmDFj\n",
              "RqxevTq+9a1vxfLly/OeVrSefvrp+NWvfhW9evXKe0rR+c9//hMDBgyIZs2axZ///Of4+9//Hj//\n",
              "+c+jTZs2eU8rKhMnTowpU6bEL37xi5g3b15MnDgxLr744rjyyivznpar5cuXxy677BKTJ0/+zPsv\n",
              "vvjiuOKKK+Kqq66KJ598Mlq0aBFVVVWxYsWKTbw0P+s6R++//35UV1fH2LFjo7q6Om677bZ44YUX\n",
              "YtCgQTkszdf6fpc+cvvtt8esWbOiQ4cOm2hZcVnfeXrppZdir732ih49esSDDz4Yzz//fIwdOzbK\n",
              "yso28dJPyL7k+vfvn40YMaLu6zVr1mQdOnTIxo8fn+Oq4rZkyZIsIrKHHnoo7ylF6d133826d++e\n",
              "zZgxI9tnn32ykSNH5j2pqJx11lnZXnvtlfeMonfwwQdnJ5xwQr1jhx9+eHbsscfmtKj4RER2++23\n",
              "131dW1ubtW/fPrvkkkvqjr3zzjtZaWlpdvPNN+ewMH+fPEef5amnnsoiInvllVc2zagitLbz9Npr\n",
              "r2XbbLNNNnfu3Kxz587ZZZddtsm3FZPPOk9HH310NmTIkHwGrcOX+hXcVatWxezZs2PgwIF1x5o0\n",
              "aRIDBw6MJ554IsdlxW3ZsmUREdG2bduclxSnESNGxMEHH1zv94r/74477oi+ffvGkUceGe3atYve\n",
              "vXvHNddck/esorPnnnvG/fffH/Pnz4+IiOeeey4effTROPDAA3NeVrwWLlwYb7zxRr3/7VVWVsbu\n",
              "u+/uOX0dli1bFoVCIVq3bp33lKJSW1sbQ4cOjTFjxsROO+2U95yiVFtbG3fffXd8/etfj6qqqmjX\n",
              "rl3svvvu67zcY1P5Ugfuv//971izZk1stdVW9Y5vtdVW8cYbb+S0qrjV1tbGqFGjYsCAAbHzzjvn\n",
              "Pafo3HLLLVFdXR3jx4/Pe0rRevnll2PKlCnRvXv3uPfee2P48OFx2mmnxdSpU/OeVlTOPvvs+O53\n",
              "vxs9evSIZs2aRe/evWPUqFFx7LHH5j2taH30vO05fcOtWLEizjrrrDjmmGOioqIi7zlFZeLEiVFS\n",
              "UhKnnXZa3lOK1pIlS+K9996LCRMmxAEHHBB/+ctf4rDDDovDDz88HnrooVy3leT6t7PZGTFiRMyd\n",
              "OzceffTRvKcUnVdffTVGjhwZM2bMyP/aoyJWW1sbffv2jYsuuigiInr37h1z586Nq666KoYNG5bz\n",
              "uuIxbdq0uPHGG+Omm26KnXbaKebMmROjRo2KDh06OE80itWrV8dRRx0VWZbFlClT8p5TVGbPnh2T\n",
              "Jk2K6urqKBQKec8pWrW1tRERceihh8bo0aMjImLXXXeNxx9/PK666qrYZ599ctv2pX4Fd8stt4ym\n",
              "TZvGm2++We/4m2++Ge3bt89pVfE69dRT46677oqZM2fG1772tbznFJ3Zs2fHkiVLok+fPlFSUhIl\n",
              "JSXx0EMPxRVXXBElJSWxZs2avCcWha233jp23HHHesd22GGH3N9xW2zGjBlT9ypuz549Y+jQoTF6\n",
              "9Gj/78A6fPS87Tl9/T6K21deeSVmzJjh1dtPeOSRR2LJkiXRqVOnuufzV155JX70ox/Ftttum/e8\n",
              "orHllltGSUlJUT6nf6kDt3nz5rHbbrvF/fffX3estrY27r///thjjz1yXFZcsiyLU089NW6//fZ4\n",
              "4IEHokuXLnlPKkr7779//PWvf405c+bU3fr27RvHHntszJkzJ5o2bZr3xKIwYMCAT33M3Pz586Nz\n",
              "5845LSpO77//fjRpUv8pumnTpnWvmPBpXbp0ifbt29d7Tq+pqYknn3zSc/rHfBS3L774Ytx3332x\n",
              "xRZb5D2p6AwdOjSef/75es/nHTp0iDFjxsS9996b97yi0bx58+jXr19RPqd/6S9ROP3002PYsGHR\n",
              "t2/f6N+/f1x++eWxfPnyOP744/OeVjRGjBgRN910U/zxj3+MVq1a1V3LVllZGeXl5TmvKx6tWrX6\n",
              "1HXJLVq0iC222ML1yh8zevTo2HPPPeOiiy6Ko446Kp566qm4+uqr4+qrr857WlE55JBD4sILL4xO\n",
              "nTrFTjvtFM8++2xceumlccIJJ+Q9LVfvvfdeLFiwoO7rhQsXxpw5c6Jt27bRqVOnGDVqVPzsZz+L\n",
              "7t27R5cuXWLs2LHRoUOHGDx4cH6jN7F1naOtt946vvOd70R1dXXcddddsWbNmrrn9LZt20bz5s3z\n",
              "mr3Jre936ZPh36xZs2jfvn1sv/32m3pqrtZ3nsaMGRNHH3107L333rHffvvFPffcE3feeWc8+OCD\n",
              "+Y2O8DFhWZZlV155ZdapU6esefPmWf/+/bNZs2blPamoRMRn3n7729/mPa3o+Ziwz3bnnXdmO++8\n",
              "c1ZaWpr16NEju/rqq/OeVHRqamqykSNHZp06dcrKysqyrl27Zj/+8Y+zlStX5j0tVzNnzvzM56Nh\n",
              "w4ZlWfa/jwobO3ZsttVWW2WlpaXZ/vvvn73wwgv5jt7E1nWOFi5cuNbn9JkzZ+Y9fZNa3+/SJ31Z\n",
              "PyZsQ87Ttddem3Xr1i0rKyvLdtlll2z69On5Df5QIcu+5P8sDgAASflSX4MLAEB6BC4AAEkRuAAA\n",
              "JEXgAgCQFIELAEBSBC4AAEkRuAAAJEXgAgCQFIELAEBSBC4AAEkRuAAAJEXgAgCQlP8HmD/3s6Bs\n",
              "ZJkAAAAASUVORK5CYII=\n",
              "\">\n",
              "        <script></script>"
            ],
            "text/plain": [
              "<google.colab._quickchart_lib.MplChart at 0x7ccbc5e97df0>"
            ]
          },
          "metadata": {},
          "execution_count": 143
        }
      ]
    },
    {
      "cell_type": "markdown",
      "source": [
        "## Calculando a distância percorrida durante o experimento\n",
        "Como em 16 vezes o ônibus não parou e em 9 ele parou, existiram mais vezes em que andei mais.\n",
        "\n",
        "Será que isso é o suficiente para que escolher descer no primeiro ponto? Vou calcular a distância percorrida e a distância média para entender melhor o experimento."
      ],
      "metadata": {
        "id": "5rfoZhw-jp0Y"
      }
    },
    {
      "cell_type": "code",
      "source": [
        "#criar uma lista que vai guardar cada um dos valores percorrido de acordo com a informação sim ou não do dataframe\n",
        "distancia = []\n",
        "for i in range(0,25):  #A função range não inclui o ultimo valor 25 vira 24.\n",
        "  if df.Parou[i] == 'Sim':\n",
        "    distancia.append(53)\n",
        "  else:\n",
        "    distancia.append(833)"
      ],
      "metadata": {
        "id": "ubJT_E9rkBIt"
      },
      "execution_count": 144,
      "outputs": []
    },
    {
      "cell_type": "code",
      "source": [
        "#atualizando os dados com a lista\n",
        "dados['Distancia'] = distancia\n",
        "dados"
      ],
      "metadata": {
        "colab": {
          "base_uri": "https://localhost:8080/"
        },
        "id": "yjbtC-G1pLE9",
        "outputId": "ed262f20-d6d4-4f01-9eed-2f6b26adf7a2"
      },
      "execution_count": 145,
      "outputs": [
        {
          "output_type": "execute_result",
          "data": {
            "text/plain": [
              "{'Parou': ['Sim',\n",
              "  'Não',\n",
              "  'Não',\n",
              "  'Sim',\n",
              "  'Não',\n",
              "  'Não',\n",
              "  'Sim',\n",
              "  'Não',\n",
              "  'Sim',\n",
              "  'Não',\n",
              "  'Não',\n",
              "  'Sim',\n",
              "  'Não',\n",
              "  'Não',\n",
              "  'Não',\n",
              "  'Sim',\n",
              "  'Sim',\n",
              "  'Não',\n",
              "  'Sim',\n",
              "  'Não',\n",
              "  'Não',\n",
              "  'Não',\n",
              "  'Não',\n",
              "  'Sim',\n",
              "  'Não'],\n",
              " 'Distancia': [53,\n",
              "  833,\n",
              "  833,\n",
              "  53,\n",
              "  833,\n",
              "  833,\n",
              "  53,\n",
              "  833,\n",
              "  53,\n",
              "  833,\n",
              "  833,\n",
              "  53,\n",
              "  833,\n",
              "  833,\n",
              "  833,\n",
              "  53,\n",
              "  53,\n",
              "  833,\n",
              "  53,\n",
              "  833,\n",
              "  833,\n",
              "  833,\n",
              "  833,\n",
              "  53,\n",
              "  833]}"
            ]
          },
          "metadata": {},
          "execution_count": 145
        }
      ]
    },
    {
      "cell_type": "code",
      "source": [
        "#atualizando o data frame\n",
        "df = pd.DataFrame(dados)\n",
        "df"
      ],
      "metadata": {
        "colab": {
          "base_uri": "https://localhost:8080/",
          "height": 833
        },
        "id": "hVo_okUjpW6C",
        "outputId": "098acbd8-0484-442b-b392-dd1404370a61"
      },
      "execution_count": 146,
      "outputs": [
        {
          "output_type": "execute_result",
          "data": {
            "text/plain": [
              "   Parou  Distancia\n",
              "0    Sim         53\n",
              "1    Não        833\n",
              "2    Não        833\n",
              "3    Sim         53\n",
              "4    Não        833\n",
              "5    Não        833\n",
              "6    Sim         53\n",
              "7    Não        833\n",
              "8    Sim         53\n",
              "9    Não        833\n",
              "10   Não        833\n",
              "11   Sim         53\n",
              "12   Não        833\n",
              "13   Não        833\n",
              "14   Não        833\n",
              "15   Sim         53\n",
              "16   Sim         53\n",
              "17   Não        833\n",
              "18   Sim         53\n",
              "19   Não        833\n",
              "20   Não        833\n",
              "21   Não        833\n",
              "22   Não        833\n",
              "23   Sim         53\n",
              "24   Não        833"
            ],
            "text/html": [
              "\n",
              "  <div id=\"df-4dc6cdf1-ff34-4951-9d5c-025a64e683d6\" class=\"colab-df-container\">\n",
              "    <div>\n",
              "<style scoped>\n",
              "    .dataframe tbody tr th:only-of-type {\n",
              "        vertical-align: middle;\n",
              "    }\n",
              "\n",
              "    .dataframe tbody tr th {\n",
              "        vertical-align: top;\n",
              "    }\n",
              "\n",
              "    .dataframe thead th {\n",
              "        text-align: right;\n",
              "    }\n",
              "</style>\n",
              "<table border=\"1\" class=\"dataframe\">\n",
              "  <thead>\n",
              "    <tr style=\"text-align: right;\">\n",
              "      <th></th>\n",
              "      <th>Parou</th>\n",
              "      <th>Distancia</th>\n",
              "    </tr>\n",
              "  </thead>\n",
              "  <tbody>\n",
              "    <tr>\n",
              "      <th>0</th>\n",
              "      <td>Sim</td>\n",
              "      <td>53</td>\n",
              "    </tr>\n",
              "    <tr>\n",
              "      <th>1</th>\n",
              "      <td>Não</td>\n",
              "      <td>833</td>\n",
              "    </tr>\n",
              "    <tr>\n",
              "      <th>2</th>\n",
              "      <td>Não</td>\n",
              "      <td>833</td>\n",
              "    </tr>\n",
              "    <tr>\n",
              "      <th>3</th>\n",
              "      <td>Sim</td>\n",
              "      <td>53</td>\n",
              "    </tr>\n",
              "    <tr>\n",
              "      <th>4</th>\n",
              "      <td>Não</td>\n",
              "      <td>833</td>\n",
              "    </tr>\n",
              "    <tr>\n",
              "      <th>5</th>\n",
              "      <td>Não</td>\n",
              "      <td>833</td>\n",
              "    </tr>\n",
              "    <tr>\n",
              "      <th>6</th>\n",
              "      <td>Sim</td>\n",
              "      <td>53</td>\n",
              "    </tr>\n",
              "    <tr>\n",
              "      <th>7</th>\n",
              "      <td>Não</td>\n",
              "      <td>833</td>\n",
              "    </tr>\n",
              "    <tr>\n",
              "      <th>8</th>\n",
              "      <td>Sim</td>\n",
              "      <td>53</td>\n",
              "    </tr>\n",
              "    <tr>\n",
              "      <th>9</th>\n",
              "      <td>Não</td>\n",
              "      <td>833</td>\n",
              "    </tr>\n",
              "    <tr>\n",
              "      <th>10</th>\n",
              "      <td>Não</td>\n",
              "      <td>833</td>\n",
              "    </tr>\n",
              "    <tr>\n",
              "      <th>11</th>\n",
              "      <td>Sim</td>\n",
              "      <td>53</td>\n",
              "    </tr>\n",
              "    <tr>\n",
              "      <th>12</th>\n",
              "      <td>Não</td>\n",
              "      <td>833</td>\n",
              "    </tr>\n",
              "    <tr>\n",
              "      <th>13</th>\n",
              "      <td>Não</td>\n",
              "      <td>833</td>\n",
              "    </tr>\n",
              "    <tr>\n",
              "      <th>14</th>\n",
              "      <td>Não</td>\n",
              "      <td>833</td>\n",
              "    </tr>\n",
              "    <tr>\n",
              "      <th>15</th>\n",
              "      <td>Sim</td>\n",
              "      <td>53</td>\n",
              "    </tr>\n",
              "    <tr>\n",
              "      <th>16</th>\n",
              "      <td>Sim</td>\n",
              "      <td>53</td>\n",
              "    </tr>\n",
              "    <tr>\n",
              "      <th>17</th>\n",
              "      <td>Não</td>\n",
              "      <td>833</td>\n",
              "    </tr>\n",
              "    <tr>\n",
              "      <th>18</th>\n",
              "      <td>Sim</td>\n",
              "      <td>53</td>\n",
              "    </tr>\n",
              "    <tr>\n",
              "      <th>19</th>\n",
              "      <td>Não</td>\n",
              "      <td>833</td>\n",
              "    </tr>\n",
              "    <tr>\n",
              "      <th>20</th>\n",
              "      <td>Não</td>\n",
              "      <td>833</td>\n",
              "    </tr>\n",
              "    <tr>\n",
              "      <th>21</th>\n",
              "      <td>Não</td>\n",
              "      <td>833</td>\n",
              "    </tr>\n",
              "    <tr>\n",
              "      <th>22</th>\n",
              "      <td>Não</td>\n",
              "      <td>833</td>\n",
              "    </tr>\n",
              "    <tr>\n",
              "      <th>23</th>\n",
              "      <td>Sim</td>\n",
              "      <td>53</td>\n",
              "    </tr>\n",
              "    <tr>\n",
              "      <th>24</th>\n",
              "      <td>Não</td>\n",
              "      <td>833</td>\n",
              "    </tr>\n",
              "  </tbody>\n",
              "</table>\n",
              "</div>\n",
              "    <div class=\"colab-df-buttons\">\n",
              "\n",
              "  <div class=\"colab-df-container\">\n",
              "    <button class=\"colab-df-convert\" onclick=\"convertToInteractive('df-4dc6cdf1-ff34-4951-9d5c-025a64e683d6')\"\n",
              "            title=\"Convert this dataframe to an interactive table.\"\n",
              "            style=\"display:none;\">\n",
              "\n",
              "  <svg xmlns=\"http://www.w3.org/2000/svg\" height=\"24px\" viewBox=\"0 -960 960 960\">\n",
              "    <path d=\"M120-120v-720h720v720H120Zm60-500h600v-160H180v160Zm220 220h160v-160H400v160Zm0 220h160v-160H400v160ZM180-400h160v-160H180v160Zm440 0h160v-160H620v160ZM180-180h160v-160H180v160Zm440 0h160v-160H620v160Z\"/>\n",
              "  </svg>\n",
              "    </button>\n",
              "\n",
              "  <style>\n",
              "    .colab-df-container {\n",
              "      display:flex;\n",
              "      gap: 12px;\n",
              "    }\n",
              "\n",
              "    .colab-df-convert {\n",
              "      background-color: #E8F0FE;\n",
              "      border: none;\n",
              "      border-radius: 50%;\n",
              "      cursor: pointer;\n",
              "      display: none;\n",
              "      fill: #1967D2;\n",
              "      height: 32px;\n",
              "      padding: 0 0 0 0;\n",
              "      width: 32px;\n",
              "    }\n",
              "\n",
              "    .colab-df-convert:hover {\n",
              "      background-color: #E2EBFA;\n",
              "      box-shadow: 0px 1px 2px rgba(60, 64, 67, 0.3), 0px 1px 3px 1px rgba(60, 64, 67, 0.15);\n",
              "      fill: #174EA6;\n",
              "    }\n",
              "\n",
              "    .colab-df-buttons div {\n",
              "      margin-bottom: 4px;\n",
              "    }\n",
              "\n",
              "    [theme=dark] .colab-df-convert {\n",
              "      background-color: #3B4455;\n",
              "      fill: #D2E3FC;\n",
              "    }\n",
              "\n",
              "    [theme=dark] .colab-df-convert:hover {\n",
              "      background-color: #434B5C;\n",
              "      box-shadow: 0px 1px 3px 1px rgba(0, 0, 0, 0.15);\n",
              "      filter: drop-shadow(0px 1px 2px rgba(0, 0, 0, 0.3));\n",
              "      fill: #FFFFFF;\n",
              "    }\n",
              "  </style>\n",
              "\n",
              "    <script>\n",
              "      const buttonEl =\n",
              "        document.querySelector('#df-4dc6cdf1-ff34-4951-9d5c-025a64e683d6 button.colab-df-convert');\n",
              "      buttonEl.style.display =\n",
              "        google.colab.kernel.accessAllowed ? 'block' : 'none';\n",
              "\n",
              "      async function convertToInteractive(key) {\n",
              "        const element = document.querySelector('#df-4dc6cdf1-ff34-4951-9d5c-025a64e683d6');\n",
              "        const dataTable =\n",
              "          await google.colab.kernel.invokeFunction('convertToInteractive',\n",
              "                                                    [key], {});\n",
              "        if (!dataTable) return;\n",
              "\n",
              "        const docLinkHtml = 'Like what you see? Visit the ' +\n",
              "          '<a target=\"_blank\" href=https://colab.research.google.com/notebooks/data_table.ipynb>data table notebook</a>'\n",
              "          + ' to learn more about interactive tables.';\n",
              "        element.innerHTML = '';\n",
              "        dataTable['output_type'] = 'display_data';\n",
              "        await google.colab.output.renderOutput(dataTable, element);\n",
              "        const docLink = document.createElement('div');\n",
              "        docLink.innerHTML = docLinkHtml;\n",
              "        element.appendChild(docLink);\n",
              "      }\n",
              "    </script>\n",
              "  </div>\n",
              "\n",
              "\n",
              "<div id=\"df-8eb82bdd-48b0-47aa-9580-2b373f86184f\">\n",
              "  <button class=\"colab-df-quickchart\" onclick=\"quickchart('df-8eb82bdd-48b0-47aa-9580-2b373f86184f')\"\n",
              "            title=\"Suggest charts.\"\n",
              "            style=\"display:none;\">\n",
              "\n",
              "<svg xmlns=\"http://www.w3.org/2000/svg\" height=\"24px\"viewBox=\"0 0 24 24\"\n",
              "     width=\"24px\">\n",
              "    <g>\n",
              "        <path d=\"M19 3H5c-1.1 0-2 .9-2 2v14c0 1.1.9 2 2 2h14c1.1 0 2-.9 2-2V5c0-1.1-.9-2-2-2zM9 17H7v-7h2v7zm4 0h-2V7h2v10zm4 0h-2v-4h2v4z\"/>\n",
              "    </g>\n",
              "</svg>\n",
              "  </button>\n",
              "\n",
              "<style>\n",
              "  .colab-df-quickchart {\n",
              "    background-color: #E8F0FE;\n",
              "    border: none;\n",
              "    border-radius: 50%;\n",
              "    cursor: pointer;\n",
              "    display: none;\n",
              "    fill: #1967D2;\n",
              "    height: 32px;\n",
              "    padding: 0 0 0 0;\n",
              "    width: 32px;\n",
              "  }\n",
              "\n",
              "  .colab-df-quickchart:hover {\n",
              "    background-color: #E2EBFA;\n",
              "    box-shadow: 0px 1px 2px rgba(60, 64, 67, 0.3), 0px 1px 3px 1px rgba(60, 64, 67, 0.15);\n",
              "    fill: #174EA6;\n",
              "  }\n",
              "\n",
              "  [theme=dark] .colab-df-quickchart {\n",
              "    background-color: #3B4455;\n",
              "    fill: #D2E3FC;\n",
              "  }\n",
              "\n",
              "  [theme=dark] .colab-df-quickchart:hover {\n",
              "    background-color: #434B5C;\n",
              "    box-shadow: 0px 1px 3px 1px rgba(0, 0, 0, 0.15);\n",
              "    filter: drop-shadow(0px 1px 2px rgba(0, 0, 0, 0.3));\n",
              "    fill: #FFFFFF;\n",
              "  }\n",
              "</style>\n",
              "\n",
              "  <script>\n",
              "    async function quickchart(key) {\n",
              "      const charts = await google.colab.kernel.invokeFunction(\n",
              "          'suggestCharts', [key], {});\n",
              "    }\n",
              "    (() => {\n",
              "      let quickchartButtonEl =\n",
              "        document.querySelector('#df-8eb82bdd-48b0-47aa-9580-2b373f86184f button');\n",
              "      quickchartButtonEl.style.display =\n",
              "        google.colab.kernel.accessAllowed ? 'block' : 'none';\n",
              "    })();\n",
              "  </script>\n",
              "</div>\n",
              "    </div>\n",
              "  </div>\n"
            ]
          },
          "metadata": {},
          "execution_count": 146
        }
      ]
    },
    {
      "cell_type": "code",
      "source": [
        "#Total percorrido e média percorrida\n",
        "soma = df['Distancia'].sum()\n",
        "media = soma/len(distancia)\n",
        "print(\"O total percorrido durante o experimento foi\",soma,\"metros e em média andei\",media,\"metros.\")"
      ],
      "metadata": {
        "colab": {
          "base_uri": "https://localhost:8080/"
        },
        "id": "MGX8cTzQrBh-",
        "outputId": "10b03b71-3933-4ed0-9f46-c89c30351e35"
      },
      "execution_count": 147,
      "outputs": [
        {
          "output_type": "stream",
          "name": "stdout",
          "text": [
            "O total percorrido durante o experimento foi 13805 metros e em média andei 552.2 metros.\n"
          ]
        }
      ]
    },
    {
      "cell_type": "markdown",
      "source": [
        "##Resultado 1\n",
        "Como em méida eu ando 552.2 metros isso significa que ando menos do que escolhendo descer no primeiro ponto, 597 metros.\n",
        "\n",
        "Logo é uma boa escolha tentar a sorte de pegar o sinal fechado."
      ],
      "metadata": {
        "id": "RT2Sg1LFvH1o"
      }
    },
    {
      "cell_type": "markdown",
      "source": [
        "##Aprimorando o experimento\n",
        "Podemos usar o conceito de esperança matemática para obter um resultado mais preciso, já que 25 amostras é um número pequeno.\n",
        "Para isso eu preciso da probabilidade do sinal estar aberto. Consegui essa informação usando a divisão do tempo que o sinal fica aberto dividido pelo tempo que o sinal fica aberto somado ao tempo que ele fica fechado."
      ],
      "metadata": {
        "id": "EgNKF24yvhls"
      }
    },
    {
      "cell_type": "code",
      "source": [
        "aberto = 70 #tempo em segundos que o sinal fica aberto.\n",
        "fechado = 40 #tempo em segundos que o sinal fica fechado.\n",
        "\n",
        "probabilidade_aberto = aberto / (aberto + fechado)\n",
        "probabilidade_aberto"
      ],
      "metadata": {
        "colab": {
          "base_uri": "https://localhost:8080/"
        },
        "id": "yX1JTywzwvFN",
        "outputId": "d92355db-b435-43b8-e9bf-178628011610"
      },
      "execution_count": 148,
      "outputs": [
        {
          "output_type": "execute_result",
          "data": {
            "text/plain": [
              "0.6363636363636364"
            ]
          },
          "metadata": {},
          "execution_count": 148
        }
      ]
    },
    {
      "cell_type": "markdown",
      "source": [
        "Para calcular a esperança de um evento devemos multiplicar a probabilidade do evento pelo resultado daquele evento.\n",
        "Nesse caso vamos multiplicar a probabilidade do sinal estar aberto por quanto eu vou percorrer caso ele esteja aberto e somar com a probabilidade dele estar fechado por quanto eu vou percorrer caso ele esteja fechado.\n"
      ],
      "metadata": {
        "id": "szr2Lq7MxLrA"
      }
    },
    {
      "cell_type": "code",
      "source": [
        "probabilidade_fechado = (1 - probabilidade_aberto) #Como estar aberto ou fechado são eventos complementares comecei calculando a probabilidade do sinal estar fechado\n",
        "ando_aberto = 833 #distância em metros do quanto eu ando se o sinal estiver aberto\n",
        "ando_fechado = 54 #distância em metros do quanto eu ando se o sinal estiver fechado\n",
        "esperanca = round(probabilidade_fechado * ando_fechado + probabilidade_aberto * ando_aberto, 2)\n",
        "print('O valor da esperança matemática é', esperanca, \"metros.\")"
      ],
      "metadata": {
        "colab": {
          "base_uri": "https://localhost:8080/"
        },
        "id": "EaHdBsp9xVh7",
        "outputId": "a7a4c814-f33f-401e-dd1a-89235627f756"
      },
      "execution_count": 149,
      "outputs": [
        {
          "output_type": "stream",
          "name": "stdout",
          "text": [
            "O valor da esperança matemática é 549.73 metros.\n"
          ]
        }
      ]
    },
    {
      "cell_type": "markdown",
      "source": [
        "##Resultado 2\n",
        "Usando o conceito de esperança matemática consegui um valor que ratifica que é melhor tentar a sorte e descer no segundo ponto.\n",
        "\n",
        "Mas tudo isso poderia ser evitado se eu sempre pedisse para o motorista fazer o fazer de parar no sinal, esse fato não diminui a importancia da utilização prática de uma tomada de decisão com base em dados e matemática."
      ],
      "metadata": {
        "id": "GXNZBKzfyZGK"
      }
    }
  ]
}